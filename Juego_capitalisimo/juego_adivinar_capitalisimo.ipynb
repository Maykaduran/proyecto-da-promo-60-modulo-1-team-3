{
 "cells": [
  {
   "cell_type": "markdown",
   "id": "a85d919e",
   "metadata": {},
   "source": [
    " Reglas del Juego de \"Preguntas y Respuestas de Geografía\":\n",
    "    - El juego consiste en hacer preguntas de geografía y que el jugador adivine la respuesta correcta.\n",
    "    - Cada pregunta tiene una respuesta única y correcta.\n",
    "    - El jugador tiene un número limitado de intentos para responder correctamente a cada pregunta.\n",
    "    - El juego sigue hasta que el jugador responda incorrectamente 3 de veces o haya respondido 5 preguntas correctamente.\n",
    "\n",
    "- Pistas para las alumnas:\n",
    "    1. Comienza creando un diccionario que contenga preguntas de geografía como claves y respuestas como valores.\n",
    "    2. Implementa una función para seleccionar una pregunta aleatoria del diccionario.\n",
    "    3. Utiliza un bucle `while` para hacer preguntas de geografía hasta que el jugador responda un número específico de preguntas correctamente o alcance un número máximo de respuestas incorrectas.\n",
    "    4. Dentro del bucle, presenta la pregunta al jugador y permita que ingresen sus respuestas.\n",
    "    5. Lleva un seguimiento del número de preguntas realizadas y el número de respuestas correctas.\n",
    "    6. Determina las condiciones de victoria y derrota del juego y sal del bucle cuando se cumplan estas condiciones."
   ]
  },
  {
   "cell_type": "code",
   "execution_count": 6,
   "id": "472c1f63",
   "metadata": {},
   "outputs": [],
   "source": [
    "capitalisimo = {}"
   ]
  },
  {
   "cell_type": "code",
   "execution_count": 8,
   "id": "496480c4",
   "metadata": {},
   "outputs": [
    {
     "name": "stdout",
     "output_type": "stream",
     "text": [
      "['Vanuatu', 'Tuvalu', 'Burkina Faso', 'Comoras', 'Yibuti', 'Moldavia', 'Liechtenstein', 'San Marino', 'Kirguistán', 'Tayikistán', 'Nepal', 'Bután', 'Maldivas', 'Brunéi', 'Surinam', 'Guyana', 'Belice', 'Honduras', 'Nicaragua', 'Guinea-Bisáu', 'Cabo Verde', 'Santo Tomé y Príncipe', 'Eritrea', 'Lesoto', 'Esuatini', 'Fiyi', 'Samoa', 'Islas Salomón', 'Tonga', 'Mónaco']\n"
     ]
    }
   ],
   "source": [
    "paises =  [\n",
    "    \"Vanuatu\",\n",
    "    \"Tuvalu\",\n",
    "    \"Burkina Faso\",\n",
    "    \"Comoras\",\n",
    "    \"Yibuti\",\n",
    "    \"Moldavia\",\n",
    "    \"Liechtenstein\",\n",
    "    \"San Marino\",\n",
    "    \"Kirguistán\",\n",
    "    \"Tayikistán\",\n",
    "    \"Nepal\",\n",
    "    \"Bután\",\n",
    "    \"Maldivas\",\n",
    "    \"Brunéi\",\n",
    "    \"Surinam\",\n",
    "    \"Guyana\",\n",
    "    \"Belice\",\n",
    "    \"Honduras\",\n",
    "    \"Nicaragua\",\n",
    "    \"Guinea-Bisáu\",\n",
    "    \"Cabo Verde\",\n",
    "    \"Santo Tomé y Príncipe\",\n",
    "    \"Eritrea\",\n",
    "    \"Lesoto\",\n",
    "    \"Esuatini\",\n",
    "    \"Fiyi\",\n",
    "    \"Samoa\",\n",
    "    \"Islas Salomón\",\n",
    "    \"Tonga\",\n",
    "    \"Mónaco\"\n",
    "]\n",
    "print(paises)"
   ]
  },
  {
   "cell_type": "code",
   "execution_count": 9,
   "id": "9a6f6cbd",
   "metadata": {},
   "outputs": [
    {
     "name": "stdout",
     "output_type": "stream",
     "text": [
      "['Port Vila', 'Funafuti', 'Uagadugú', 'Moroni', 'Yibuti', 'Chisináu', 'Vaduz', 'San Marino', 'Biskek', 'Dusambé', 'Katmandú', 'Timbu', 'Malé', 'Bandar Seri Begawan', 'Paramaribo', 'Georgetown', 'Belmopán', 'Tegucigalpa', 'Managua', 'Bisáu', 'Praia', 'Santo Tomé', 'Asmara', 'Maseru', 'Mbabane', 'Suva', 'Apia', 'Honiara', 'Nukualofa', 'Mónaco']\n"
     ]
    }
   ],
   "source": [
    "capitales =  [\n",
    "    \"Port Vila\",\n",
    "    \"Funafuti\",\n",
    "    \"Uagadugú\",\n",
    "    \"Moroni\",\n",
    "    \"Yibuti\",\n",
    "    \"Chisináu\",\n",
    "    \"Vaduz\",\n",
    "    \"San Marino\",\n",
    "    \"Biskek\",\n",
    "    \"Dusambé\",\n",
    "    \"Katmandú\",\n",
    "    \"Timbu\",\n",
    "    \"Malé\",\n",
    "    \"Bandar Seri Begawan\",\n",
    "    \"Paramaribo\",\n",
    "    \"Georgetown\",\n",
    "    \"Belmopán\",\n",
    "    \"Tegucigalpa\",\n",
    "    \"Managua\",\n",
    "    \"Bisáu\",\n",
    "    \"Praia\",\n",
    "    \"Santo Tomé\",\n",
    "    \"Asmara\",\n",
    "    \"Maseru\",\n",
    "    \"Mbabane\",\n",
    "    \"Suva\",\n",
    "    \"Apia\",\n",
    "    \"Honiara\",\n",
    "    \"Nukualofa\",\n",
    "    \"Mónaco\"\n",
    "]\n",
    "print(capitales)"
   ]
  },
  {
   "cell_type": "code",
   "execution_count": 13,
   "id": "b6041e52",
   "metadata": {},
   "outputs": [
    {
     "name": "stdout",
     "output_type": "stream",
     "text": [
      "<class 'dict'>\n"
     ]
    }
   ],
   "source": [
    "capitalisimo = dict(zip(paises, capitales))\n",
    "print(type(capitalisimo))"
   ]
  },
  {
   "cell_type": "code",
   "execution_count": 14,
   "id": "215dfe58",
   "metadata": {},
   "outputs": [
    {
     "name": "stdout",
     "output_type": "stream",
     "text": [
      "{'Vanuatu': 'Port Vila', 'Tuvalu': 'Funafuti', 'Burkina Faso': 'Uagadugú', 'Comoras': 'Moroni', 'Yibuti': 'Yibuti', 'Moldavia': 'Chisináu', 'Liechtenstein': 'Vaduz', 'San Marino': 'San Marino', 'Kirguistán': 'Biskek', 'Tayikistán': 'Dusambé', 'Nepal': 'Katmandú', 'Bután': 'Timbu', 'Maldivas': 'Malé', 'Brunéi': 'Bandar Seri Begawan', 'Surinam': 'Paramaribo', 'Guyana': 'Georgetown', 'Belice': 'Belmopán', 'Honduras': 'Tegucigalpa', 'Nicaragua': 'Managua', 'Guinea-Bisáu': 'Bisáu', 'Cabo Verde': 'Praia', 'Santo Tomé y Príncipe': 'Santo Tomé', 'Eritrea': 'Asmara', 'Lesoto': 'Maseru', 'Esuatini': 'Mbabane', 'Fiyi': 'Suva', 'Samoa': 'Apia', 'Islas Salomón': 'Honiara', 'Tonga': 'Nukualofa', 'Mónaco': 'Mónaco'}\n"
     ]
    }
   ],
   "source": [
    "print(capitalisimo)"
   ]
  }
 ],
 "metadata": {
  "kernelspec": {
   "display_name": "Python 3",
   "language": "python",
   "name": "python3"
  },
  "language_info": {
   "codemirror_mode": {
    "name": "ipython",
    "version": 3
   },
   "file_extension": ".py",
   "mimetype": "text/x-python",
   "name": "python",
   "nbconvert_exporter": "python",
   "pygments_lexer": "ipython3",
   "version": "3.13.7"
  }
 },
 "nbformat": 4,
 "nbformat_minor": 5
}
