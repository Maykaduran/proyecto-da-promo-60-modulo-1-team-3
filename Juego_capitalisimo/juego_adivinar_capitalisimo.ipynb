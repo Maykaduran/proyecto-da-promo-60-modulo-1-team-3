{
 "cells": [
  {
   "cell_type": "markdown",
   "id": "a85d919e",
   "metadata": {},
   "source": [
    " Reglas del Juego de \"Preguntas y Respuestas de Geografía\":\n",
    "    - El juego consiste en hacer preguntas de geografía y que el jugador adivine la respuesta correcta.\n",
    "    - Cada pregunta tiene una respuesta única y correcta.\n",
    "    - El jugador tiene un número limitado de intentos para responder correctamente a cada pregunta.\n",
    "    - El juego sigue hasta que el jugador responda incorrectamente 3 de veces o haya respondido 5 preguntas correctamente.\n",
    "\n",
    "- Pistas para las alumnas:\n",
    "    1. Comienza creando un diccionario que contenga preguntas de geografía como claves y respuestas como valores.\n",
    "    2. Implementa una función para seleccionar una pregunta aleatoria del diccionario.\n",
    "    3. Utiliza un bucle `while` para hacer preguntas de geografía hasta que el jugador responda un número específico de preguntas correctamente o alcance un número máximo de respuestas incorrectas.\n",
    "    4. Dentro del bucle, presenta la pregunta al jugador y permita que ingresen sus respuestas.\n",
    "    5. Lleva un seguimiento del número de preguntas realizadas y el número de respuestas correctas.\n",
    "    6. Determina las condiciones de victoria y derrota del juego y sal del bucle cuando se cumplan estas condiciones."
   ]
  },
  {
   "cell_type": "code",
   "execution_count": null,
   "id": "94b87915",
   "metadata": {},
   "outputs": [],
   "source": [
    "import random\n",
    "\n",
    "paises = \"Afganistán, Albania, Alemania, Andorra, Angola, Antigua y Barbuda, Arabia Saudi, Argelia, Argentina, Armenia, Australia, Austria, Azerbaiyán, Las Bahamas, Baréin, Bangladesh, Barbados, Bélgica, Belice, Benín, Bielorrusia, Birmania, Bolivia, Bosnia y Herzegovina, Botsuana, Brasil, Brunéi, Bulgaria, Burkina Faso, Burundi, Bután, Cabo Verde, Camboya, Camerún, Canadá, Qatar, Chad, Chile, China, Chipre, Ciudad del Vaticano, Colombia, Unión de las Comoras, Corea del Norte, Corea del Sur, Costa de Marfil, Costa Rica, Croacia, Cuba, Dinamarca, Dominica, Ecuador, Egipto, El Salvador, Emiratos Árabes Unidos, Eritrea, Eslovaquia, Eslovenia, España, Estonia, Etiopía, Islas Fiyi, Filipinas, Finlandia, Francia, Gabón, Gambia, Georgia, Ghana, Granada (Isla), Grecia, Guatemala, Guinea, Guinea-Bisáu, Guinea Ecuatorial, Guyana, Haití, Honduras, Hungría, India, Indonesia, Iraq, Irán, Irlanda, Islandia, Islas Marshall, Islas Salomón, Israel, Italia, Jamaica, Japón, Jordania, Kazajistán, Kenia, Kirguistán, Kiribati, Kosovo, Kuwait, Laos, Lesoto, Letonia, Líbano, Liberia, Libia, Liechtenstein, Lituania, Luxemburgo, Macedonia del Norte, Madagascar, Malasia, Malaui, Maldivas, Mali, Malta, Marruecos, República de Mauricio, Mauritania, México, Micronesia, Moldavia, Mónaco, Mongolia, Montenegro, Mozambique, Namibia, República de Nauru, Nepal, Nicaragua, Niger, Nigeria, Noruega, Países Bajos, Pakistán, Palaos, Panamá, Papúa Nueva Guinea, Paraguay, Perú, Polonia, Portugal, Reino Unido, República Centroafricana, República Checa, República del Congo, República Democrática del Congo, República Dominicana, Ruanda, Rumanía, Rusia, Samoa, San Cristóbal y Nieves, San Marino, San Vicente y las Granadinas, Santa Lucía, Santo Tomé y Príncipe, Senegal, Serbia, Seychelles, Singapur, Sierra Leona, Siria, Somalia, Sri Lanka, Sudáfrica, Sudán, Sudán del Sur, Suecia, Suiza, Surinam, Suazilandia, Tailandia, Tanzania, Tayikistán, Timor Oriental, Togo, Tonga, Trinidad y Tobago, Túnez, Turkmenistán, Turquía, Tuvalu, Ucrania, Uganda, Uruguay, Uzbekistán, Vanuatu, Venezuela, Vietnam, Yemen, Yibuti, Zambia, Zimbabue, Taiwán, Palestina, Sáhara Occidental, Somalilandia, Abjasia, Osetia del Sur, Transnistria, Artsaj\"\n",
    "paises_mundo = list(paises.split(', ')) # hemos usado \", \" como delimitador para que sólo cuente partes a partir de una coma con espacio\n",
    "\n",
    "capitales = \"Kabul, Tirana, Berlín, Andorra, Luanda, Saint John's, Riad, Argel, Buenos Aires, Ereván, Canberra, Viena, Bakú, Nasáu, Manama, Daca, Bridgetown, Bruselas, Belmopán, Porto Novo, Minsk, Naipyidó, Sucre, Sarajevo, Gaborone, Brasilia, Bandar Seri Begawan, Sofía, Uagadugú, Gitega, Timbu, Praia, Nom Pen, Yaundé, Ottawa, Doha, Yamena, Santiago, Pekín, Nicosia, Ciudad del Vaticano, Bogotá, Moroni, Pionyang, Seúl, Yamusukro, San José, Zagreb, La Habana, Copenhague, Roseau, Quito, El Cairo, San Salvador, Abu Dabi, Asmara, Bratislava, Liubliana, Madrid, Tallin, Adis Abeba, Suva, Manila, Helsinki, París, Libreville, Banjul, Tiflis, Acra, Saint George's, Atenas, Ciudad de Guatemala, Conakri, Bisau, Malabo, Georgetown, Puerto Príncipe, Tegucigalpa, Budapest, Nueva Delhi, Yakarta, Bagdad, Teherán, Dublín, Reikiavik, Majuro, Honiara, Jerusalem, Roma, Kingston, Tokio, Amán, Astana, Nairobi, Biskek, Tarawa del Sur, Pristina, Kuwait, Vientián, Maseru, Riga, Beirut, Monrovia, Trípoli, Vaduz, Vilnius, Luxemburgo, Skopje, Antananarivo, Kuala Lumpur, Lilongüe, Malé, Bamako, La Valeta, Rabat, Port Louis, Nuakchot, Ciudad de México, Palikir, Chisinau, Mónaco, Ulan Bator, Podgorica, Maputo, Windhoek, Yaren, Katmandú, Managua, Niamey, Abuya, Oslo, Ámsterdam, Islamabad, Ngerulmud, Ciudad de Panamá, Port Moresby, Asunción, Lima, Varsovia, Lisboa, Londres, Bangui, Praga, Brazzaville, Kinsasa, Santo Domingo, Kigali, Bucarest, Moscú, Apia, Basseterre, San Marino, Kingstown, Castries, Santo Tomé, Dakar, Belgrado, Victoria, Freetown, Singapur, Damasco, Mogadiscio, Sri Jayawardenapura Kotte, Pretoria, Jartum, Yuba, Estocolmo, Berna, Paramaribo, Mbabane, Bangkok, Dodoma, Dusamb, Dili, Lomé, Nukualofa, Puerto España, Túnez, Asjabad, Ankara, Funafuti, Kiev, Kampala, Montevideo, Taskent, Port Vila, Caracas, Hanói, Saná, Yibuti, Lusaka, Harare, Taipei, Ramala, El Aaiún, Hargeisa, Sujumi, Tsjinvali, Tiráspol, Stepanakert\"\n",
    "\n",
    "capitales_mundo = list(capitales.split(', ')) # hemos usado \", \" como delimitador para que sólo cuente partes a partir de una coma con espacio\n",
    "\n",
    "capitalisimo = {} \n",
    "for i in range(len(paises_mundo)):\n",
    "    capitalisimo[paises_mundo[i]] = capitales_mundo[i] \n",
    "\n",
    "# partiendo de 2 textos se han creado 2 listas y se han combinado en un diccionario\n",
    "# con un 'bucle for' los países y capitales por parejas (clave/calor, keys/values)"
   ]
  },
  {
   "cell_type": "code",
   "execution_count": 12,
   "id": "b6041e52",
   "metadata": {},
   "outputs": [
    {
     "name": "stdout",
     "output_type": "stream",
     "text": [
      "<class 'dict'>\n"
     ]
    }
   ],
   "source": [
    "print(type(capitalisimo))"
   ]
  },
  {
   "cell_type": "code",
   "execution_count": 13,
   "id": "215dfe58",
   "metadata": {},
   "outputs": [
    {
     "name": "stdout",
     "output_type": "stream",
     "text": [
      "{'Afganistán': 'Kabul', 'Albania': 'Tirana', 'Alemania': 'Berlín', 'Andorra': 'Andorra', 'Angola': 'Luanda', 'Antigua y Barbuda': \"Saint John's\", 'Arabia Saudi': 'Riad', 'Argelia': 'Argel', 'Argentina': 'Buenos Aires', 'Armenia': 'Ereván', 'Australia': 'Canberra', 'Austria': 'Viena', 'Azerbaiyán': 'Bakú', 'Las Bahamas': 'Nasáu', 'Baréin': 'Manama', 'Bangladesh': 'Daca', 'Barbados': 'Bridgetown', 'Bélgica': 'Bruselas', 'Belice': 'Belmopán', 'Benín': 'Porto Novo', 'Bielorrusia': 'Minsk', 'Birmania': 'Naipyidó', 'Bolivia': 'Sucre', 'Bosnia y Herzegovina': 'Sarajevo', 'Botsuana': 'Gaborone', 'Brasil': 'Brasilia', 'Brunéi': 'Bandar Seri Begawan', 'Bulgaria': 'Sofía', 'Burkina Faso': 'Uagadugú', 'Burundi': 'Gitega', 'Bután': 'Timbu', 'Cabo Verde': 'Praia', 'Camboya': 'Nom Pen', 'Camerún': 'Yaundé', 'Canadá': 'Ottawa', 'Qatar': 'Doha', 'Chad': 'Yamena', 'Chile': 'Santiago', 'China': 'Pekín', 'Chipre': 'Nicosia', 'Ciudad del Vaticano': 'Ciudad del Vaticano', 'Colombia': 'Bogotá', 'Unión de las Comoras': 'Moroni', 'Corea del Norte': 'Pionyang', 'Corea del Sur': 'Seúl', 'Costa de Marfil': 'Yamusukro', 'Costa Rica': 'San José', 'Croacia': 'Zagreb', 'Cuba': 'La Habana', 'Dinamarca': 'Copenhague', 'Dominica': 'Roseau', 'Ecuador': 'Quito', 'Egipto': 'El Cairo', 'El Salvador': 'San Salvador', 'Emiratos Árabes Unidos': 'Abu Dabi', 'Eritrea': 'Asmara', 'Eslovaquia': 'Bratislava', 'Eslovenia': 'Liubliana', 'España': 'Madrid', 'Estonia': 'Tallin', 'Etiopía': 'Adis Abeba', 'Islas Fiyi': 'Suva', 'Filipinas': 'Manila', 'Finlandia': 'Helsinki', 'Francia': 'París', 'Gabón': 'Libreville', 'Gambia': 'Banjul', 'Georgia': 'Tiflis', 'Ghana': 'Acra', 'Granada (Isla)': \"Saint George's\", 'Grecia': 'Atenas', 'Guatemala': 'Ciudad de Guatemala', 'Guinea': 'Conakri', 'Guinea-Bisáu': 'Bisau', 'Guinea Ecuatorial': 'Malabo', 'Guyana': 'Georgetown', 'Haití': 'Puerto Príncipe', 'Honduras': 'Tegucigalpa', 'Hungría': 'Budapest', 'India': 'Nueva Delhi', 'Indonesia': 'Yakarta', 'Iraq': 'Bagdad', 'Irán': 'Teherán', 'Irlanda': 'Dublín', 'Islandia': 'Reikiavik', 'Islas Marshall': 'Majuro', 'Islas Salomón': 'Honiara', 'Israel': 'Jerusalem', 'Italia': 'Roma', 'Jamaica': 'Kingston', 'Japón': 'Tokio', 'Jordania': 'Amán', 'Kazajistán': 'Astana', 'Kenia': 'Nairobi', 'Kirguistán': 'Biskek', 'Kiribati': 'Tarawa del Sur', 'Kosovo': 'Pristina', 'Kuwait': 'Kuwait', 'Laos': 'Vientián', 'Lesoto': 'Maseru', 'Letonia': 'Riga', 'Líbano': 'Beirut', 'Liberia': 'Monrovia', 'Libia': 'Trípoli', 'Liechtenstein': 'Vaduz', 'Lituania': 'Vilnius', 'Luxemburgo': 'Luxemburgo', 'Macedonia del Norte': 'Skopje', 'Madagascar': 'Antananarivo', 'Malasia': 'Kuala Lumpur', 'Malaui': 'Lilongüe', 'Maldivas': 'Malé', 'Mali': 'Bamako', 'Malta': 'La Valeta', 'Marruecos': 'Rabat', 'República de Mauricio': 'Port Louis', 'Mauritania': 'Nuakchot', 'México': 'Ciudad de México', 'Micronesia': 'Palikir', 'Moldavia': 'Chisinau', 'Mónaco': 'Mónaco', 'Mongolia': 'Ulan Bator', 'Montenegro': 'Podgorica', 'Mozambique': 'Maputo', 'Namibia': 'Windhoek', 'República de Nauru': 'Yaren', 'Nepal': 'Katmandú', 'Nicaragua': 'Managua', 'Niger': 'Niamey', 'Nigeria': 'Abuya', 'Noruega': 'Oslo', 'Países Bajos': 'Ámsterdam', 'Pakistán': 'Islamabad', 'Palaos': 'Ngerulmud', 'Panamá': 'Ciudad de Panamá', 'Papúa Nueva Guinea': 'Port Moresby', 'Paraguay': 'Asunción', 'Perú': 'Lima', 'Polonia': 'Varsovia', 'Portugal': 'Lisboa', 'Reino Unido': 'Londres', 'República Centroafricana': 'Bangui', 'República Checa': 'Praga', 'República del Congo': 'Brazzaville', 'República Democrática del Congo': 'Kinsasa', 'República Dominicana': 'Santo Domingo', 'Ruanda': 'Kigali', 'Rumanía': 'Bucarest', 'Rusia': 'Moscú', 'Samoa': 'Apia', 'San Cristóbal y Nieves': 'Basseterre', 'San Marino': 'San Marino', 'San Vicente y las Granadinas': 'Kingstown', 'Santa Lucía': 'Castries', 'Santo Tomé y Príncipe': 'Santo Tomé', 'Senegal': 'Dakar', 'Serbia': 'Belgrado', 'Seychelles': 'Victoria', 'Singapur': 'Freetown', 'Sierra Leona': 'Singapur', 'Siria': 'Damasco', 'Somalia': 'Mogadiscio', 'Sri Lanka': 'Sri Jayawardenapura Kotte', 'Sudáfrica': 'Pretoria', 'Sudán': 'Jartum', 'Sudán del Sur': 'Yuba', 'Suecia': 'Estocolmo', 'Suiza': 'Berna', 'Surinam': 'Paramaribo', 'Suazilandia': 'Mbabane', 'Tailandia': 'Bangkok', 'Tanzania': 'Dodoma', 'Tayikistán': 'Dusamb', 'Timor Oriental': 'Dili', 'Togo': 'Lomé', 'Tonga': 'Nukualofa', 'Trinidad y Tobago': 'Puerto España', 'Túnez': 'Túnez', 'Turkmenistán': 'Asjabad', 'Turquía': 'Ankara', 'Tuvalu': 'Funafuti', 'Ucrania': 'Kiev', 'Uganda': 'Kampala', 'Uruguay': 'Montevideo', 'Uzbekistán': 'Taskent', 'Vanuatu': 'Port Vila', 'Venezuela': 'Caracas', 'Vietnam': 'Hanói', 'Yemen': 'Saná', 'Yibuti': 'Yibuti', 'Zambia': 'Lusaka', 'Zimbabue': 'Harare', 'Taiwán': 'Taipei', 'Palestina': 'Ramala', 'Sáhara Occidental': 'El Aaiún', 'Somalilandia': 'Hargeisa', 'Abjasia': 'Sujumi', 'Osetia del Sur': 'Tsjinvali', 'Transnistria': 'Tiráspol', 'Artsaj': 'Stepanakert'}\n"
     ]
    }
   ],
   "source": [
    "print(capitalisimo)"
   ]
  },
  {
   "cell_type": "code",
   "execution_count": 16,
   "id": "7bd59c56",
   "metadata": {},
   "outputs": [
    {
     "name": "stdout",
     "output_type": "stream",
     "text": [
      "AH BUENO, SE ME CUIDA\n"
     ]
    }
   ],
   "source": [
    "import random\n",
    "usuario = input('¿Estás preparado? + aquí va una presentación').lower() #estandarizamos a minúsculas\n",
    "\n",
    "if usuario == 'SI':\n",
    "    capital = input(random.choice(list(capitalisimo.keys()))).lower() #seguimos asegurándonos de que estandarizamos a minúsculas\n",
    "    print('vale') #esto es temporal, solo para comprobaciones\n",
    "\n",
    "\n",
    "else:\n",
    "    print('Ah bueno, se me cuida'.upper())\n",
    "\n",
    "\n",
    "\n",
    "\n",
    "\n",
    "\n",
    "\n"
   ]
  },
  {
   "cell_type": "markdown",
   "id": "07a7a857",
   "metadata": {},
   "source": [
    "#### Tenemos dos posibles opciones a probar:\n",
    "### la solución 1: es nuestro planteamiento original, partes con 10 puntos, respuesta correcta no resta, respuesta erronea resta 1, respuesta absurda resta 3, cuando tengas menos de 3 puntos, te sacan del mundo."
   ]
  },
  {
   "cell_type": "markdown",
   "id": "28260354",
   "metadata": {},
   "source": [
    "### la solución 2: ceñirnos a las reglas planteadas por el enunciado del juego: acumular 3 respuestas incorrectas, fin del juego, pa fuera; acumular 5 preguntas correctas, BIENVENIDO welcome hello PRESIDENTE DEL MUNDO, averiguar si es solucionable asociando la respuesta a la correspondencia True/False con los Clave/Valor del diccionario\n",
    "\n",
    "\n",
    "\n",
    "\n",
    "\n",
    "\n"
   ]
  }
 ],
 "metadata": {
  "kernelspec": {
   "display_name": "Python 3",
   "language": "python",
   "name": "python3"
  },
  "language_info": {
   "codemirror_mode": {
    "name": "ipython",
    "version": 3
   },
   "file_extension": ".py",
   "mimetype": "text/x-python",
   "name": "python",
   "nbconvert_exporter": "python",
   "pygments_lexer": "ipython3",
   "version": "3.13.7"
  }
 },
 "nbformat": 4,
 "nbformat_minor": 5
}
