{
 "cells": [
  {
   "cell_type": "code",
   "execution_count": 1,
   "id": "04583d23",
   "metadata": {},
   "outputs": [],
   "source": [
    "import random"
   ]
  },
  {
   "cell_type": "code",
   "execution_count": 3,
   "id": "634d5d38",
   "metadata": {},
   "outputs": [],
   "source": [
    "opciones = [\"piedra\", \"papel\", \"tijeras\"]\n",
    "victorias = 3\n",
    "victorias_user1 = 0\n",
    "victorias_userbot = 0"
   ]
  },
  {
   "cell_type": "code",
   "execution_count": 4,
   "id": "d9e7006a",
   "metadata": {},
   "outputs": [
    {
     "name": "stdout",
     "output_type": "stream",
     "text": [
      "Empate\n",
      "___________________________________\n",
      "gana user_bot\n",
      "LLevas 1 victorias\n",
      "___________________________________\n",
      "Gana user1\n",
      "LLevas 1 victorias\n",
      "___________________________________\n",
      "Gana user1\n",
      "LLevas 2 victorias\n",
      "___________________________________\n",
      "Gana user1\n",
      "LLevas 3 victorias\n",
      "___________________________________\n",
      "user 1 ha ganado el juego!\n"
     ]
    }
   ],
   "source": [
    "victorias_user1 = 0\n",
    "victorias_userbot = 0\n",
    "\n",
    "while victorias_user1 < 3 or victorias_userbot < 3:\n",
    "\n",
    "    user_bot = random.choice(opciones)\n",
    "    user1 = input(opciones)\n",
    "    \n",
    "\n",
    "       \n",
    "    if user1 == \"tijeras\" and user_bot == \"papel\" or user1 == \"papel\" and user_bot == \"piedra\" or user1 == \"piedra\" and user_bot == \"tijeras\":\n",
    "       victorias_user1 += 1\n",
    "       print(\"Gana user1\")\n",
    "       print(f\"LLevas {victorias_user1} victorias\")\n",
    "       print(\"___________________________________\")\n",
    "\n",
    "       \n",
    "    elif user1 == user_bot:\n",
    "        print(\"Empate\")\n",
    "        print(\"___________________________________\")\n",
    "        \n",
    "    elif user_bot == \"tijeras\" and user1 == \"papel\" or user_bot == \"papel\" and user1 == \"piedra\" or user_bot == \"piedra\" and user1 == \"tijeras\":\n",
    "        victorias_userbot += 1\n",
    "        print(\"gana user_bot\")\n",
    "        print(f\"LLevas {victorias_userbot} victorias\")\n",
    "        print(\"___________________________________\")\n",
    "\n",
    "    else:\n",
    "        print(\"opcion no válida\")\n",
    "\n",
    "\n",
    "\n",
    "    if victorias_user1 == 3:\n",
    "        print(\"user 1 ha ganado el juego!\")\n",
    "        break\n",
    "\n",
    "    elif victorias_userbot == 3:\n",
    "        print(\"User_bot ha ganado el juego!\")\n",
    "        break"
   ]
  }
 ],
 "metadata": {
  "kernelspec": {
   "display_name": "base",
   "language": "python",
   "name": "python3"
  },
  "language_info": {
   "codemirror_mode": {
    "name": "ipython",
    "version": 3
   },
   "file_extension": ".py",
   "mimetype": "text/x-python",
   "name": "python",
   "nbconvert_exporter": "python",
   "pygments_lexer": "ipython3",
   "version": "3.13.5"
  }
 },
 "nbformat": 4,
 "nbformat_minor": 5
}
