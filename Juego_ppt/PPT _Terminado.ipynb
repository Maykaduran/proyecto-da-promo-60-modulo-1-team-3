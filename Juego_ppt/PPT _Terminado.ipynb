{
 "cells": [
  {
   "cell_type": "code",
   "execution_count": null,
   "id": "d9e7006a",
   "metadata": {},
   "outputs": [
    {
     "name": "stdout",
     "output_type": "stream",
     "text": [
      "Empate\n",
      "___________________________________\n",
      "Empate\n",
      "___________________________________\n",
      "Empate\n",
      "___________________________________\n",
      "Gana user1\n",
      "LLevas 1 victorias\n",
      "___________________________________\n",
      "gana user_bot\n",
      "LLevas 1 victorias\n",
      "___________________________________\n",
      "Gana user1\n",
      "LLevas 2 victorias\n",
      "___________________________________\n",
      "gana user_bot\n",
      "LLevas 2 victorias\n",
      "___________________________________\n",
      "Gana user1\n",
      "LLevas 3 victorias\n",
      "___________________________________\n",
      "user 1 ha ganado el juego!\n"
     ]
    }
   ],
   "source": [
    "import random # Lo necesitaremos para poder implemetar los inputs del BOT\n",
    "\n",
    "opciones = [\"piedra\", \"papel\", \"tijeras\"]\n",
    "\n",
    "victorias_user1 = 0\n",
    "victorias_userbot = 0\n",
    "\n",
    "while victorias_user1 < 3 or victorias_userbot < 3: # Definimos un bucle while para que \"reinicie\" el juego hasta que uno de los dos jugadores consiga 3 victorias\n",
    "\n",
    "    user_bot = random.choice(opciones) # implementamos la biblioteca random para la elección aleatoria por parte del Bot de una de las tres opciones marcadas más arriba.\n",
    "    user1 = input(opciones)\n",
    "    \n",
    "\n",
    "       \n",
    "    if user1 == \"tijeras\" and user_bot == \"papel\" or user1 == \"papel\" and user_bot == \"piedra\" or user1 == \"piedra\" and user_bot == \"tijeras\": # definimos todas las posibilidades de que el User1 gane una victoria\n",
    "       victorias_user1 += 1\n",
    "       print(\"Gana user1\")\n",
    "       print(f\"LLevas {victorias_user1} victorias\")\n",
    "       print(\"___________________________________\")\n",
    "\n",
    "       \n",
    "    elif user1 == user_bot: #definimos la posibilidad de que tanto Userbot como User1 elijan la misma opción.\n",
    "        print(\"Empate\")\n",
    "        print(\"___________________________________\")\n",
    "        \n",
    "    elif user_bot == \"tijeras\" and user1 == \"papel\" or user_bot == \"papel\" and user1 == \"piedra\" or user_bot == \"piedra\" and user1 == \"tijeras\": # definimos todas las posibilidades de que el Userbot gane una victoria\n",
    "        victorias_userbot += 1\n",
    "        print(\"gana user_bot\")\n",
    "        print(f\"LLevas {victorias_userbot} victorias\")\n",
    "        print(\"___________________________________\")\n",
    "\n",
    "    else: # Para los casos en los que el User1 introduzca una opción no valida.\n",
    "        print(\"opcion no válida\")\n",
    "\n",
    "\n",
    "\n",
    "    if victorias_user1 == 3: # Mensaje que devolverá en caso de que el User1 llegue a ganar 3 veces el juego.\n",
    "        print(\"user 1 ha ganado el juego!\")\n",
    "        break\n",
    "\n",
    "    elif victorias_userbot == 3: # Mensaje que devolverá en caso de que el Userbot llegue a ganar 3 veces el juego.\n",
    "        print(\"User_bot ha ganado el juego!\")\n",
    "        break"
   ]
  }
 ],
 "metadata": {
  "kernelspec": {
   "display_name": "base",
   "language": "python",
   "name": "python3"
  },
  "language_info": {
   "codemirror_mode": {
    "name": "ipython",
    "version": 3
   },
   "file_extension": ".py",
   "mimetype": "text/x-python",
   "name": "python",
   "nbconvert_exporter": "python",
   "pygments_lexer": "ipython3",
   "version": "3.13.5"
  }
 },
 "nbformat": 4,
 "nbformat_minor": 5
}
