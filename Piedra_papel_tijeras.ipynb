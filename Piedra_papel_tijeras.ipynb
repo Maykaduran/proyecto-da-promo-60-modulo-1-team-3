{
 "cells": [
  {
   "cell_type": "markdown",
   "id": "46d9109e",
   "metadata": {},
   "source": [
    "# Piedra Papel & Tijera\n",
    "\n",
    "- Reglas del Juego \"Piedra, Papel y Tijera\":\n",
    "\n",
    "    - Dos jugadores eligen una de las tres opciones: \"Piedra\", \"Papel\" o \"Tijera\".\n",
    "\n",
    "    - Las reglas para determinar al ganador son:\n",
    "        \n",
    "        - Piedra vence a Tijera.\n",
    "\n",
    "        - Tijera vence a Papel.\n",
    "\n",
    "        - Papel vence a Piedra.\n",
    "\n",
    "        - El jugador que gana una ronda obtiene un punto.\n",
    "        \n",
    "        - El juego continúa hasta que un jugador haya acumulado 3 puntos, convirtiéndose en el ganador.\n",
    "\n",
    "\n",
    "- Pistas para las alumnas:\n",
    "\n",
    "    1. Comienza por definir el número de puntos objetivo que se deben alcanzar para ganar el juego.\n",
    "\n",
    "    2. Implementa una función que obtenga la elección del jugador y valide que sea una de las opciones válidas (\"Piedra\", \"Papel\" o \"Tijera\").\n",
    "\n",
    "    3. Utiliza un bucle `while` para llevar un registro de los puntos de cada jugador y continuar el juego hasta que se alcance el número de puntos objetivo.\n",
    "\n",
    "    4. Genera una elección aleatoria para el segundo jugador (la computadora) utilizando el módulo `random`.\n",
    "\n",
    "    5. Determina al ganador de cada ronda y actualiza los puntos correspondientes.\n",
    "\n",
    "    6. Verifica si algún jugador ha alcanzado el número de puntos objetivo y finalicen el juego cuando eso suceda.\n",
    "\n",
    "\n",
    "\n"
   ]
  },
  {
   "cell_type": "code",
   "execution_count": 4,
   "id": "d347174b",
   "metadata": {},
   "outputs": [],
   "source": [
    "import random"
   ]
  },
  {
   "cell_type": "code",
   "execution_count": 7,
   "id": "9c4d4634",
   "metadata": {},
   "outputs": [],
   "source": [
    "opciones = [\"piedra\", \"papel\", \"tijeras\"]\n",
    "victorias = 3\n",
    "victorias_user1 = 0\n",
    "victorias_userbot = 0"
   ]
  },
  {
   "cell_type": "code",
   "execution_count": 6,
   "id": "14bf7c52",
   "metadata": {},
   "outputs": [
    {
     "name": "stdout",
     "output_type": "stream",
     "text": [
      "tijeras\n",
      "papel\n"
     ]
    }
   ],
   "source": [
    "user1 = input(opciones)\n",
    "user_bot = input(opciones)\n",
    "print(user1)\n",
    "print(user_bot)\n"
   ]
  },
  {
   "cell_type": "code",
   "execution_count": 7,
   "id": "6e0916d1",
   "metadata": {},
   "outputs": [
    {
     "name": "stdout",
     "output_type": "stream",
     "text": [
      "Gana user1\n",
      "El user1 lleva 1 victorias\n",
      "Gana user_bot\n",
      "El user_bot lleva 1 victorias\n"
     ]
    }
   ],
   "source": [
    "user1 = input(opciones)\n",
    "user_bot = input(opciones)\n",
    "\n",
    "victorias_user1 = 0\n",
    "victorias_userbot = 0\n",
    "\n",
    "\n",
    "if user1 == \"tijeras\" and user_bot == \"papel\":\n",
    "    print(\"Gana user1\")\n",
    "    victorias_user1 +=1\n",
    "    print(f\"El user1 lleva {victorias_user1} victorias\")\n",
    "\n",
    "       \n",
    "\n",
    "if user1 == \"papel\" and user_bot == \"piedra\":\n",
    "    print(\"Gana user1\")\n",
    "    victorias_user1 +=1\n",
    "    print(f\"El user1 lleva {victorias_user1} victorias\")\n",
    "\n",
    "\n",
    "\n",
    "if user1 == \"piedra\" and user_bot == \"tijeras\":\n",
    "    print(\"Gana user1\")\n",
    "    victorias_user1 +=1\n",
    "    print(f\"El user1 lleva {victorias_user1} victorias\")\n",
    "\n",
    "\n",
    "else:\n",
    "    print(\"Gana user_bot\")\n",
    "    victorias_userbot +=1\n",
    "    print(f\"El user_bot lleva {victorias_userbot} victorias\")"
   ]
  },
  {
   "cell_type": "code",
   "execution_count": 19,
   "id": "f3870a5e",
   "metadata": {},
   "outputs": [
    {
     "name": "stdout",
     "output_type": "stream",
     "text": [
      "Gana user1\n",
      "Gana user1\n",
      "Gana user1\n",
      "Gana user1\n",
      "Gana user1\n",
      "gana user_bot\n"
     ]
    }
   ],
   "source": [
    "user1 = input(opciones)\n",
    "user_bot = input(opciones)\n",
    "\n",
    "victorias_user1 = 0\n",
    "victorias_userbot = 0\n",
    "\n",
    "while victorias_user1 < 2 or victorias_userbot < 2 :\n",
    "\n",
    "    if user1 == \"tijeras\" and user_bot == \"papel\":\n",
    "       victorias_user1 += 1\n",
    "       print(\"Gana user1\")\n",
    "\n",
    "       user1 = input(opciones)\n",
    "       user_bot = input(opciones)\n",
    "    \n",
    "    elif user1 == \"papel\" and user_bot == \"piedra\":\n",
    "       victorias_user1 += 1\n",
    "       print(\"Gana user1\")\n",
    "\n",
    "       user1 = input(opciones)\n",
    "       user_bot = input(opciones)\n",
    "    \n",
    "    elif user1 == \"piedra\" and user_bot == \"tijeras\":\n",
    "        victorias_user1 += 1\n",
    "        print(\"Gana user1\")\n",
    "\n",
    "        user1 = input(opciones)\n",
    "        user_bot = input(opciones)\n",
    "\n",
    "    else:\n",
    "        victorias_userbot += 1\n",
    "        print(\"gana user_bot\")\n",
    "\n",
    "        user1 = input(opciones)\n",
    "        user_bot = input(opciones)\n",
    "        break\n",
    "       \n",
    "    \n",
    "    "
   ]
  },
  {
   "cell_type": "code",
   "execution_count": 8,
   "id": "93ef8658",
   "metadata": {},
   "outputs": [
    {
     "name": "stdout",
     "output_type": "stream",
     "text": [
      "gana user_bot\n",
      "LLevas 1 victorias\n",
      "___________________________________\n",
      "gana user_bot\n",
      "LLevas 2 victorias\n",
      "___________________________________\n",
      "Empate\n",
      "___________________________________\n",
      "gana user_bot\n",
      "LLevas 3 victorias\n",
      "___________________________________\n",
      "User_bot ha ganado el juego!\n"
     ]
    }
   ],
   "source": [
    "victorias_user1 = 0\n",
    "victorias_userbot = 0\n",
    "\n",
    "while victorias_user1 < 3 or victorias_userbot < 3:\n",
    "\n",
    "    user1 = input(opciones)\n",
    "    user_bot = input(opciones)\n",
    "\n",
    "       \n",
    "    if user1 == \"tijeras\" and user_bot == \"papel\" or user1 == \"papel\" and user_bot == \"piedra\" or user1 == \"piedra\" and user_bot == \"tijeras\":\n",
    "       victorias_user1 += 1\n",
    "       print(\"Gana user1\")\n",
    "       print(f\"LLevas {victorias_user1} victorias\")\n",
    "       print(\"___________________________________\")\n",
    "\n",
    "       \n",
    "    elif user1 == user_bot:\n",
    "        print(\"Empate\")\n",
    "        print(\"___________________________________\")\n",
    "        \n",
    "    elif user_bot == \"tijeras\" and user1 == \"papel\" or user_bot == \"papel\" and user1 == \"piedra\" or user_bot == \"piedra\" and user1 == \"tijeras\":\n",
    "        victorias_userbot += 1\n",
    "        print(\"gana user_bot\")\n",
    "        print(f\"LLevas {victorias_userbot} victorias\")\n",
    "        print(\"___________________________________\")\n",
    "\n",
    "    else:\n",
    "        print(\"opcion no válida\")\n",
    "\n",
    "\n",
    "\n",
    "    if victorias_user1 == 3:\n",
    "        print(\"user 1 ha ganado el juego!\")\n",
    "        break\n",
    "\n",
    "    elif victorias_userbot == 3:\n",
    "        print(\"User_bot ha ganado el juego!\")\n",
    "        break\n",
    "    "
   ]
  }
 ],
 "metadata": {
  "kernelspec": {
   "display_name": "base",
   "language": "python",
   "name": "python3"
  },
  "language_info": {
   "codemirror_mode": {
    "name": "ipython",
    "version": 3
   },
   "file_extension": ".py",
   "mimetype": "text/x-python",
   "name": "python",
   "nbconvert_exporter": "python",
   "pygments_lexer": "ipython3",
   "version": "3.13.5"
  }
 },
 "nbformat": 4,
 "nbformat_minor": 5
}
