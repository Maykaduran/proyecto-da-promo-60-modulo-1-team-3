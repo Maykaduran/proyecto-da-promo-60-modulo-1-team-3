{
 "cells": [
  {
   "cell_type": "markdown",
   "id": "46d9109e",
   "metadata": {},
   "source": [
    "# Piedra Papel & Tijera\n",
    "\n",
    "- Reglas del Juego \"Piedra, Papel y Tijera\":\n",
    "\n",
    "    - Dos jugadores eligen una de las tres opciones: \"Piedra\", \"Papel\" o \"Tijera\".\n",
    "\n",
    "    - Las reglas para determinar al ganador son:\n",
    "        \n",
    "        - Piedra vence a Tijera.\n",
    "\n",
    "        - Tijera vence a Papel.\n",
    "\n",
    "        - Papel vence a Piedra.\n",
    "\n",
    "        - El jugador que gana una ronda obtiene un punto.\n",
    "        \n",
    "        - El juego continúa hasta que un jugador haya acumulado 3 puntos, convirtiéndose en el ganador.\n",
    "\n",
    "\n",
    "- Pistas para las alumnas:\n",
    "\n",
    "    1. Comienza por definir el número de puntos objetivo que se deben alcanzar para ganar el juego.\n",
    "\n",
    "    2. Implementa una función que obtenga la elección del jugador y valide que sea una de las opciones válidas (\"Piedra\", \"Papel\" o \"Tijera\").\n",
    "\n",
    "    3. Utiliza un bucle `while` para llevar un registro de los puntos de cada jugador y continuar el juego hasta que se alcance el número de puntos objetivo.\n",
    "\n",
    "    4. Genera una elección aleatoria para el segundo jugador (la computadora) utilizando el módulo `random`.\n",
    "\n",
    "    5. Determina al ganador de cada ronda y actualiza los puntos correspondientes.\n",
    "\n",
    "    6. Verifica si algún jugador ha alcanzado el número de puntos objetivo y finalicen el juego cuando eso suceda.\n",
    "\n",
    "\n",
    "\n"
   ]
  },
  {
   "cell_type": "code",
   "execution_count": 1,
   "id": "d347174b",
   "metadata": {},
   "outputs": [],
   "source": [
    "import random"
   ]
  },
  {
   "cell_type": "code",
   "execution_count": 17,
   "id": "14bf7c52",
   "metadata": {},
   "outputs": [
    {
     "name": "stdout",
     "output_type": "stream",
     "text": [
      "tijeras\n",
      "papel\n"
     ]
    }
   ],
   "source": [
    "user1 = input(opciones)\n",
    "user_bot = input(opciones)\n",
    "print(user1)\n",
    "print(user_bot)\n"
   ]
  },
  {
   "cell_type": "code",
   "execution_count": 43,
   "id": "9c4d4634",
   "metadata": {},
   "outputs": [],
   "source": [
    "opciones = [\"piedra\", \"papel\", \"tijeras\"]\n",
    "victorias = 3\n",
    "victorias_user1 = 0\n",
    "victorias_userbot = 0"
   ]
  },
  {
   "cell_type": "code",
   "execution_count": null,
   "id": "0325bc18",
   "metadata": {},
   "outputs": [],
   "source": []
  },
  {
   "cell_type": "code",
   "execution_count": 56,
   "id": "6e0916d1",
   "metadata": {},
   "outputs": [
    {
     "name": "stdout",
     "output_type": "stream",
     "text": [
      "Gana user_bot\n",
      "El user_bot lleva 1 victorias\n"
     ]
    }
   ],
   "source": [
    "user1 = input(opciones)\n",
    "user_bot = input(opciones)\n",
    "\n",
    "victorias = 3\n",
    "victorias_user1 = 0\n",
    "victorias_userbot = 0\n",
    "\n",
    "   \n",
    "if user1 == \"tijeras\" and user_bot == \"papel\":\n",
    "    print(\"Gana user1\")\n",
    "    victorias_user1 +=1\n",
    "    print(f\"El user1 lleva {victorias_user1} victorias\")\n",
    "if user1 == \"papel\" and user_bot == \"piedra\":\n",
    "    print(\"Gana user1\")\n",
    "    victorias_user1 +=1\n",
    "    print(f\"El user1 lleva {victorias_user1} victorias\")\n",
    "if user1 == \"piedra\" and user_bot == \"tijeras\":\n",
    "    print(\"Gana user1\")\n",
    "    victorias_user1 +=1\n",
    "    print(f\"El user1 lleva {victorias_user1} victorias\")\n",
    "\n",
    "else:\n",
    "   print(\"Gana user_bot\")\n",
    "   victorias_userbot +=1\n",
    "print(f\"El user_bot lleva {victorias_userbot} victorias\")\n",
    "\n",
    "\n",
    "     \n",
    "\n",
    "\n",
    "\n",
    "\n",
    "\n"
   ]
  }
 ],
 "metadata": {
  "kernelspec": {
   "display_name": "base",
   "language": "python",
   "name": "python3"
  },
  "language_info": {
   "codemirror_mode": {
    "name": "ipython",
    "version": 3
   },
   "file_extension": ".py",
   "mimetype": "text/x-python",
   "name": "python",
   "nbconvert_exporter": "python",
   "pygments_lexer": "ipython3",
   "version": "3.13.5"
  }
 },
 "nbformat": 4,
 "nbformat_minor": 5
}
